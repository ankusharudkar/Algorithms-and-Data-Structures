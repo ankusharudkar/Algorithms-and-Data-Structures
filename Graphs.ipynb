{
 "cells": [
  {
   "cell_type": "markdown",
   "id": "8e169acb",
   "metadata": {},
   "source": [
    "# Graphs"
   ]
  },
  {
   "cell_type": "code",
   "execution_count": 1,
   "id": "8aa9f9bf",
   "metadata": {},
   "outputs": [],
   "source": [
    "import numpy as np"
   ]
  },
  {
   "cell_type": "markdown",
   "id": "49769768",
   "metadata": {},
   "source": [
    "## Representing graphs\n",
    "\n",
    "Graphs are mostly represented as:\n",
    "- Adjacency list\n",
    "- Adjacency matrix"
   ]
  },
  {
   "cell_type": "markdown",
   "id": "feeb41fd",
   "metadata": {},
   "source": [
    "### Graphs as Adjacency list\n",
    "\n",
    "- Each pair in list (x, y) representes the vertex and respective edge weight\n",
    "- The weight of each edge is taken as 1, making the the graph similar to unweighted\n",
    "\n",
    "The adjacency list shown below represents an undirected and unweighted graph"
   ]
  },
  {
   "cell_type": "code",
   "execution_count": 2,
   "id": "acc5714d",
   "metadata": {},
   "outputs": [],
   "source": [
    "adj_list = {\n",
    "    0: [(1, 1), (2, 1)],\n",
    "    1: [(0, 1), (3, 1)],\n",
    "    2: [(0, 1), (3, 1)],\n",
    "    3: [(1, 1), (2, 1), (4, 1), (5, 1)],\n",
    "    4: [(3, 1)],\n",
    "    5: [(3, 1)]\n",
    "}"
   ]
  },
  {
   "cell_type": "markdown",
   "id": "1df2975e",
   "metadata": {},
   "source": [
    "### Graphs as Adjacency Matrix\n",
    "\n",
    "- A node can be reached to itself with 0 weight\n",
    "- Each edge has a weight 1\n",
    "- Non adjacent nodes have infinte adjacent distance, indicating no direct connection\n",
    "\n",
    "The last bit might seem bit unnecessary especially for undirected and unweighted graphs, as a connection can be represented with boolean values of false or true, but including infinite distance allows matrix to encode more data which comes in handy for some algorithms to come"
   ]
  },
  {
   "cell_type": "code",
   "execution_count": 3,
   "id": "54951e2c",
   "metadata": {},
   "outputs": [
    {
     "data": {
      "text/plain": [
       "array([[ 0.,  1.,  1., inf, inf, inf],\n",
       "       [ 1.,  0., inf,  1., inf, inf],\n",
       "       [ 1., inf,  0.,  1., inf, inf],\n",
       "       [inf,  1.,  1.,  0.,  1.,  1.],\n",
       "       [inf, inf, inf,  1.,  0., inf],\n",
       "       [inf, inf, inf,  1., inf,  0.]])"
      ]
     },
     "execution_count": 3,
     "metadata": {},
     "output_type": "execute_result"
    }
   ],
   "source": [
    "# assuming edge weight is 1\n",
    "adj_matrix = np.array([[0, 1, 1, np.inf, np.inf, np.inf],\n",
    "                      [1, 0, np.inf, 1, np.inf, np.inf],\n",
    "                      [1, np.inf, 0, 1, np.inf, np.inf],\n",
    "                      [np.inf, 1, 1, 0, 1, 1],\n",
    "                      [np.inf, np.inf, np.inf, 1, 0, np.inf],\n",
    "                      [np.inf, np.inf, np.inf, 1, np.inf, 0]])\n",
    "adj_matrix"
   ]
  },
  {
   "cell_type": "markdown",
   "id": "f218c615",
   "metadata": {},
   "source": [
    "## Converting one representation to other"
   ]
  },
  {
   "cell_type": "markdown",
   "id": "d57c2598",
   "metadata": {},
   "source": [
    "### Adjacency matrix to Adjacency list"
   ]
  },
  {
   "cell_type": "code",
   "execution_count": 4,
   "id": "07fea724",
   "metadata": {},
   "outputs": [
    {
     "data": {
      "text/plain": [
       "{0: [(1, 1.0), (2, 1.0)],\n",
       " 1: [(0, 1.0), (3, 1.0)],\n",
       " 2: [(0, 1.0), (3, 1.0)],\n",
       " 3: [(1, 1.0), (2, 1.0), (4, 1.0), (5, 1.0)],\n",
       " 4: [(3, 1.0)],\n",
       " 5: [(3, 1.0)]}"
      ]
     },
     "execution_count": 4,
     "metadata": {},
     "output_type": "execute_result"
    }
   ],
   "source": [
    "def adjacency_matrix_to_list(adj_matrix):\n",
    "    \n",
    "    num_of_vertices = len(adj_matrix)\n",
    "    adj_list = {}\n",
    "    \n",
    "    for vertex in range(num_of_vertices):\n",
    "        for adj_vertex, adj_vertex_distance in enumerate(adj_matrix[vertex]):\n",
    "            if 0 < adj_vertex_distance < np.inf:\n",
    "                adj_list[vertex] = adj_list.get(vertex, []) + [(adj_vertex, adj_vertex_distance)]\n",
    "    \n",
    "    return adj_list\n",
    "\n",
    "adjacency_matrix_to_list(adj_matrix)"
   ]
  },
  {
   "cell_type": "markdown",
   "id": "0763df81",
   "metadata": {},
   "source": [
    "### Adjacency list to Adjacency list"
   ]
  },
  {
   "cell_type": "code",
   "execution_count": 5,
   "id": "137eb95a",
   "metadata": {},
   "outputs": [
    {
     "data": {
      "text/plain": [
       "array([[ 0.,  1.,  1., inf, inf, inf],\n",
       "       [ 1.,  0., inf,  1., inf, inf],\n",
       "       [ 1., inf,  0.,  1., inf, inf],\n",
       "       [inf,  1.,  1.,  0.,  1.,  1.],\n",
       "       [inf, inf, inf,  1.,  0., inf],\n",
       "       [inf, inf, inf,  1., inf,  0.]])"
      ]
     },
     "execution_count": 5,
     "metadata": {},
     "output_type": "execute_result"
    }
   ],
   "source": [
    "def adjacency_list_to_matrix(adj_list):\n",
    "    \n",
    "    num_of_vertices = len(adj_list)\n",
    "    # initializing all distances to infinity\n",
    "    adj_matrix = np.full((num_of_vertices, num_of_vertices), np.inf)\n",
    "    \n",
    "    for vertex in adj_list:\n",
    "        \n",
    "        # setting distance to self as 0\n",
    "        adj_matrix[vertex, vertex] = 0\n",
    "        \n",
    "        for adj_vertex, adj_vertex_distance in adj_list[vertex]:\n",
    "            \n",
    "            # setting distance to adjancent nodes to 1 for unweigted graphs\n",
    "            adj_matrix[vertex, adj_vertex] = adj_vertex_distance\n",
    "            \n",
    "    return adj_matrix\n",
    "\n",
    "adjacency_list_to_matrix(adj_list) "
   ]
  },
  {
   "cell_type": "markdown",
   "id": "26873751",
   "metadata": {},
   "source": [
    "## Traversing the graph\n",
    "\n",
    "Two common approaches to traverse a graph are:\n",
    "\n",
    "- Breadth First Search (BFS)\n",
    "- Depth First Search (DFS)"
   ]
  },
  {
   "cell_type": "markdown",
   "id": "1db53e5b",
   "metadata": {},
   "source": [
    "### Breadth First Search\n",
    "\n",
    "This traversal traverses the graph a level at a time with respect to the start node, meaning first it visits the start, the all adjacent elements to start, them all adjacent element to elements adjacent to start and so on till all elements that can be visited are through the given starting point are visited"
   ]
  },
  {
   "cell_type": "markdown",
   "id": "ce48a1ff",
   "metadata": {},
   "source": [
    "Below shown implementation does a breadth first search on a graph represented by an adjacency list\n",
    "\n",
    "Note: The returned BFS order will only contain the nodes reachable from the start node (its connected component to be precise)"
   ]
  },
  {
   "cell_type": "code",
   "execution_count": 6,
   "id": "8f3e1e12",
   "metadata": {},
   "outputs": [
    {
     "data": {
      "text/plain": [
       "[0, 1, 2, 3, 4, 5]"
      ]
     },
     "execution_count": 6,
     "metadata": {},
     "output_type": "execute_result"
    }
   ],
   "source": [
    "def breadth_first_search(adj_list, start_vertex):\n",
    "    \n",
    "    # importing the deque data structure\n",
    "    from collections import deque\n",
    "    \n",
    "    queue = deque()\n",
    "    \n",
    "    bfs_order = []\n",
    "    \n",
    "    # adding start node to queue\n",
    "    queue.append(start_vertex)\n",
    "        \n",
    "    # iterating while queue is not empty\n",
    "    while queue:\n",
    "        # adding first element to the BFS order\n",
    "        current_vertex = queue.popleft()\n",
    "        bfs_order.append(current_vertex)\n",
    "        \n",
    "        # adding all unvisited adjacent nodes of current_vertex to queue\n",
    "        for adj_vertex, adj_vertex_distance in adj_list[current_vertex]:\n",
    "            if adj_vertex not in queue and adj_vertex not in bfs_order:\n",
    "                queue.append(adj_vertex)\n",
    "                \n",
    "    return bfs_order\n",
    "                \n",
    "\n",
    "breadth_first_search(adj_list, 0)"
   ]
  },
  {
   "cell_type": "markdown",
   "id": "3945af3c",
   "metadata": {},
   "source": [
    "#### Using Breadth First Search to get BFS tree\n",
    "\n",
    "The result is given as a dictionary with keys reprenting the child nodes and values representing their respective parent nodes.\n",
    "\n",
    "The obtained tree also gives shortest path from starting vertex in terms of number of edges required to reach the desired vertex"
   ]
  },
  {
   "cell_type": "code",
   "execution_count": 7,
   "id": "fdfc3ae6",
   "metadata": {},
   "outputs": [
    {
     "data": {
      "text/plain": [
       "{0: 0, 1: 0, 2: 0, 3: 1, 4: 3, 5: 3}"
      ]
     },
     "execution_count": 7,
     "metadata": {},
     "output_type": "execute_result"
    }
   ],
   "source": [
    "def breadth_first_search_tree(adj_list, start_vertex):\n",
    "    \n",
    "    # importing the deque data structure\n",
    "    from collections import deque\n",
    "    \n",
    "    queue = deque()\n",
    "    \n",
    "    bfs_order = []\n",
    "    parent_tree = {start_vertex: start_vertex}\n",
    "    \n",
    "    # adding start node to queue\n",
    "    queue.append(start_vertex)\n",
    "        \n",
    "    # iterating while queue is not empty\n",
    "    while queue:\n",
    "        # adding first element to the BFS order\n",
    "        current_vertex = queue.popleft()\n",
    "        bfs_order.append(current_vertex)\n",
    "        \n",
    "        # adding all unvisited adjacent nodes of current_vertex to queue\n",
    "        for adj_vertex, adj_vertex_distance in adj_list[current_vertex]:\n",
    "            if adj_vertex not in queue and adj_vertex not in bfs_order:\n",
    "                queue.append(adj_vertex)\n",
    "                parent_tree[adj_vertex] = current_vertex\n",
    "                \n",
    "    return parent_tree\n",
    "                \n",
    "\n",
    "breadth_first_search_tree(adj_list, 0)"
   ]
  },
  {
   "cell_type": "markdown",
   "id": "1f86adcb",
   "metadata": {},
   "source": [
    "#### Using Breadth First Search to get the edge distance of each traversed vertex\n",
    "\n",
    "Counting the minimum number of edges required to reach a vertex from starting vertex"
   ]
  },
  {
   "cell_type": "code",
   "execution_count": 8,
   "id": "9134bb31",
   "metadata": {},
   "outputs": [
    {
     "data": {
      "text/plain": [
       "([0, 1, 2, 3, 4, 5], [0, 1, 1, 2, 3, 3])"
      ]
     },
     "execution_count": 8,
     "metadata": {},
     "output_type": "execute_result"
    }
   ],
   "source": [
    "def breadth_first_search_with_edge_distances(adj_list, start_vertex):\n",
    "    \n",
    "    # importing the deque data structure\n",
    "    from collections import deque\n",
    "    \n",
    "    queue = deque()\n",
    "    distance_q = deque()\n",
    "    \n",
    "    bfs_order = []\n",
    "    bfs_distance = []\n",
    "    \n",
    "    # adding start node to queue and its level to queue\n",
    "    queue.append(start_vertex)\n",
    "    distance_q.append(0)\n",
    "        \n",
    "    # iterating while queue is not empty\n",
    "    while queue:\n",
    "        # adding first element to the BFS order\n",
    "        current_vertex = queue.popleft()\n",
    "        edge_distance = distance_q.popleft()\n",
    "        bfs_order.append(current_vertex)\n",
    "        bfs_distance.append(edge_distance)\n",
    "        \n",
    "        # adding all unvisited adjacent nodes of current_vertex to queue\n",
    "        for adj_vertex, adj_vertex_distance in adj_list[current_vertex]:\n",
    "            if adj_vertex not in queue and adj_vertex not in bfs_order:\n",
    "                queue.append(adj_vertex)\n",
    "                distance_q.append(edge_distance + 1)\n",
    "                \n",
    "    return bfs_order, bfs_distance\n",
    "                \n",
    "\n",
    "breadth_first_search_with_edge_distances(adj_list, 0)"
   ]
  },
  {
   "cell_type": "markdown",
   "id": "f2d83870",
   "metadata": {},
   "source": [
    "### Depth first search\n",
    "\n",
    "This method traverses the graph by going to deeper level as far as it can and only backtracking when a \"dead end\" is reached\n",
    "\n",
    "Similiar to BFS the implementation uses adjacency list representation and returns a DFS order for the connected component of the start node"
   ]
  },
  {
   "cell_type": "code",
   "execution_count": 9,
   "id": "58e2623f",
   "metadata": {},
   "outputs": [
    {
     "data": {
      "text/plain": [
       "[0, 2, 3, 5, 4, 1]"
      ]
     },
     "execution_count": 9,
     "metadata": {},
     "output_type": "execute_result"
    }
   ],
   "source": [
    "def depth_first_search_iterative(adj_list, start_vertex):\n",
    "    \n",
    "    stack = []\n",
    "    dfs_order = []\n",
    "    \n",
    "    # adding the start_node to the stack\n",
    "    stack.append(start_vertex)\n",
    "    \n",
    "    # iterating while the stack is not empty\n",
    "    while stack:\n",
    "        # adding top of stack to DFS order\n",
    "        current_vertex = stack.pop()\n",
    "        dfs_order.append(current_vertex)\n",
    "        \n",
    "        # adding all unvisited adjacent vertices of current node to the stack\n",
    "        for adj_vertex, adj_vertex_distance in adj_list[current_vertex]:\n",
    "            if adj_vertex not in stack and adj_vertex not in dfs_order:\n",
    "                stack.append(adj_vertex)\n",
    "                \n",
    "    return dfs_order\n",
    "    \n",
    "depth_first_search_iterative(adj_list, 0)"
   ]
  },
  {
   "cell_type": "markdown",
   "id": "9d1d242b",
   "metadata": {},
   "source": [
    "#### Diving deeper in Depth First Search\n",
    "\n",
    "DFS has an inherent recursive structure which allows for, with some modifications, to do some graph operations efficiently"
   ]
  },
  {
   "cell_type": "code",
   "execution_count": 10,
   "id": "ee82b92c",
   "metadata": {},
   "outputs": [
    {
     "data": {
      "text/plain": [
       "[0, 1, 3, 2, 4, 5]"
      ]
     },
     "execution_count": 10,
     "metadata": {},
     "output_type": "execute_result"
    }
   ],
   "source": [
    "def depth_first_search(adj_list, start_vertex):\n",
    "    \n",
    "    dfs_order = []\n",
    "    \n",
    "    def _recurse(vertex):\n",
    "        # adding vertex to DFS order\n",
    "        dfs_order.append(vertex)\n",
    "        \n",
    "        # finding DFS of unvisited vertices\n",
    "        for adj_vertex, adj_vertex_distance in adj_list[vertex]:\n",
    "            if adj_vertex not in dfs_order:\n",
    "                _recurse(adj_vertex)\n",
    "                \n",
    "    _recurse(start_vertex)\n",
    "    return dfs_order\n",
    "\n",
    "depth_first_search(adj_list, 0)"
   ]
  },
  {
   "cell_type": "markdown",
   "id": "6a91d9a6",
   "metadata": {},
   "source": [
    "## Shortest path Algorithms"
   ]
  },
  {
   "cell_type": "markdown",
   "id": "e92f460b",
   "metadata": {},
   "source": [
    "### Dijkstra's Single Source Shortest Path Algorithm"
   ]
  },
  {
   "cell_type": "code",
   "execution_count": 11,
   "id": "560f0d6c",
   "metadata": {},
   "outputs": [
    {
     "data": {
      "text/plain": [
       "({0: 0, 2: 1, 1: 1, 3: 2, 5: 3, 4: 3}, {0: 0, 1: 0, 2: 0, 3: 2, 4: 3, 5: 3})"
      ]
     },
     "execution_count": 11,
     "metadata": {},
     "output_type": "execute_result"
    }
   ],
   "source": [
    "import heapdict\n",
    "\n",
    "def dijkstra(adj_list, start_node):\n",
    "    \n",
    "    # initialize distance to all nodes as infinity\n",
    "    distances = heapdict.heapdict({vertex: np.inf for vertex in adj_list})\n",
    "    \n",
    "    # make distance of start_node as 0\n",
    "    distances[start_node] = 0\n",
    "    \n",
    "    # initialize visited list\n",
    "    visited = [start_node]\n",
    "    shortest_distance = [0] \n",
    "    \n",
    "    # initialize parent dictionary\n",
    "    parent = {start_node: start_node}\n",
    "    \n",
    "    while distances:\n",
    "        current_vertex, current_distance = distances.popitem()\n",
    "        \n",
    "        # stop after exploring the connected component containing start node\n",
    "        if current_distance == np.inf:\n",
    "            break\n",
    "        \n",
    "        for adj_vertex, distance in adj_list[current_vertex]:\n",
    "            if adj_vertex not in visited and current_distance + distance < distances[adj_vertex]:\n",
    "                distances[adj_vertex] = current_distance + distance\n",
    "                parent[adj_vertex] = current_vertex\n",
    "    \n",
    "        visited.append(current_vertex)\n",
    "        shortest_distance.append(current_distance)\n",
    "    \n",
    "    return {vertex: dist for vertex, dist in zip(visited, shortest_distance)}, parent\n",
    "\n",
    "dijkstra(adj_list, 0)"
   ]
  },
  {
   "cell_type": "markdown",
   "id": "634e7255",
   "metadata": {},
   "source": [
    "To get the shortest path from start we follow the parent pointers returned by parent dictionary"
   ]
  },
  {
   "cell_type": "code",
   "execution_count": 12,
   "id": "e82b4cc8",
   "metadata": {},
   "outputs": [
    {
     "data": {
      "text/plain": [
       "[0, 2, 3, 5]"
      ]
     },
     "execution_count": 12,
     "metadata": {},
     "output_type": "execute_result"
    }
   ],
   "source": [
    "def get_path_from_dict(parent, target):\n",
    "    \n",
    "    current = target\n",
    "    # initialize empty path\n",
    "    path = []\n",
    "    \n",
    "    while parent[current] != current:\n",
    "        path.append(current)\n",
    "        current = parent[current]\n",
    "    \n",
    "    # adding the parent node\n",
    "    path.append(current)\n",
    "    \n",
    "    return path[::-1]\n",
    "\n",
    "shortest_distances, parent = dijkstra(adj_list, 0)\n",
    "get_path_from_dict(parent, 5)"
   ]
  },
  {
   "cell_type": "markdown",
   "id": "c361549f",
   "metadata": {},
   "source": [
    "### Floyd-Warshall All Pairs Shortest Path Algorithm\n",
    "\n",
    "Unlike Dijkstra's algorithm, Floyd-Warshall's algorithm is well suited for ajdacency matrices"
   ]
  },
  {
   "cell_type": "code",
   "execution_count": 13,
   "id": "4616892e",
   "metadata": {
    "scrolled": true
   },
   "outputs": [
    {
     "data": {
      "text/plain": [
       "array([[0., 1., 1., 2., 3., 3.],\n",
       "       [1., 0., 2., 1., 2., 2.],\n",
       "       [1., 2., 0., 1., 2., 2.],\n",
       "       [2., 1., 1., 0., 1., 1.],\n",
       "       [3., 2., 2., 1., 0., 2.],\n",
       "       [3., 2., 2., 1., 2., 0.]])"
      ]
     },
     "execution_count": 13,
     "metadata": {},
     "output_type": "execute_result"
    }
   ],
   "source": [
    "def floyd_warshall(adj_matrix):\n",
    "    # copying the original matrix to calculate distances\n",
    "    distances = adj_matrix.copy()\n",
    "        \n",
    "    for i in range(len(adj_matrix)):\n",
    "        for j in range(len(adj_matrix)):\n",
    "            for k in range(len(adj_matrix)):\n",
    "                if distances[j,k] > distances[j,i] + distances[i,k]:\n",
    "                    distances[j,k] = distances[j,i] + distances[i, k]\n",
    "                    \n",
    "    return distances\n",
    "\n",
    "floyd_warshall(adj_matrix)"
   ]
  },
  {
   "cell_type": "markdown",
   "id": "8215432a",
   "metadata": {},
   "source": [
    "I would love to hear any suggestions or feedback you might have on my notebook. Thanks for reading!"
   ]
  }
 ],
 "metadata": {
  "kernelspec": {
   "display_name": "Python 3 (ipykernel)",
   "language": "python",
   "name": "python3"
  },
  "language_info": {
   "codemirror_mode": {
    "name": "ipython",
    "version": 3
   },
   "file_extension": ".py",
   "mimetype": "text/x-python",
   "name": "python",
   "nbconvert_exporter": "python",
   "pygments_lexer": "ipython3",
   "version": "3.9.12"
  }
 },
 "nbformat": 4,
 "nbformat_minor": 5
}
