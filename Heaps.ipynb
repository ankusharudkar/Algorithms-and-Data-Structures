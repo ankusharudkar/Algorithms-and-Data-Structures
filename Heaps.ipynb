{
 "cells": [
  {
   "cell_type": "markdown",
   "id": "53dde151",
   "metadata": {},
   "source": [
    "# Thanks a \"heap\"!"
   ]
  },
  {
   "cell_type": "markdown",
   "id": "ee470b3e",
   "metadata": {},
   "source": [
    "## Constructing a Heap"
   ]
  },
  {
   "cell_type": "markdown",
   "id": "c668157c",
   "metadata": {},
   "source": [
    "### Method 1\n",
    "\n",
    "By recursively adding elements to a min heap"
   ]
  },
  {
   "cell_type": "code",
   "execution_count": null,
   "id": "a0de117a",
   "metadata": {},
   "outputs": [],
   "source": [
    "def heapify(array, n=0):\n",
    "    \n",
    "    # stop when n-1 indexes are heapified\n",
    "    if n == len(array):\n",
    "        return\n",
    "    else:\n",
    "        current_node = n\n",
    "        parent_node = current_node // 2\n",
    "        \n",
    "        # bubbling up the smaller element by swapping with parent node\n",
    "        while current_node and array[parent_node] > array[current_node]:\n",
    "            array[parent_node], array[current_node] = array[current_node], array[parent_node]\n",
    "            current_node = current_node // 2\n",
    "            parent_node = current_node // 2\n",
    "            \n",
    "        heapify(array, n+1)\n",
    "        \n",
    "l = [2,4,3,5,6,1,0]\n",
    "heapify(l)\n",
    "l"
   ]
  },
  {
   "cell_type": "markdown",
   "id": "5ec284d6",
   "metadata": {},
   "source": [
    "### Method 2\n",
    "\n",
    "Faster heap construction, by constructing the heap from bottom up\n",
    "\n",
    "- A complete binary tree with $n$ nodes has $\\frac{n+1}{2}$ leaves"
   ]
  },
  {
   "cell_type": "code",
   "execution_count": null,
   "id": "4c59b271",
   "metadata": {},
   "outputs": [],
   "source": [
    "def heapify_fast(array):\n",
    "    # Iterating from last to first element of array\n",
    "    for i in range(len(array)-1, -1, -1):\n",
    "        \n",
    "        # indices of left and right child\n",
    "        left_child = i * 2 + 1\n",
    "        right_child = i * 2 + 2\n",
    "        \n",
    "        has_left_child = left_child < len(array)\n",
    "        has_right_child = right_child < len(array)\n",
    "        \n",
    "        # create heap if node is not a leaf node\n",
    "        if has_left_child:\n",
    "            \n",
    "            # getting the smaller to two children\n",
    "            smaller_child = left_child\n",
    "            \n",
    "            if has_right_child and array[right_child] < array[left_child]:\n",
    "                smaller_child = right_child\n",
    "            \n",
    "            # bubbling down the larger element\n",
    "            current = i\n",
    "            while smaller_child < len(array) and array[smaller_child] < array[current]:\n",
    "                \n",
    "                array[smaller_child], array[current] = array[current], array[smaller_child]\n",
    "                current = smaller_child\n",
    "                \n",
    "                left_child = current * 2 + 1\n",
    "                right_child = current * 2 + 2\n",
    "                \n",
    "                smaller_child = left_child\n",
    "                \n",
    "                if right_child < len(array) and array[right_child] < array[left_child]:\n",
    "                    smaller_child = right_child\n",
    "            \n",
    "l = [2,4,3,5,6,1,0]\n",
    "heapify_fast(l)\n",
    "l"
   ]
  },
  {
   "cell_type": "markdown",
   "id": "7f292b33",
   "metadata": {},
   "source": [
    "## Constructing a Priority Queue using Heaps\n",
    "\n",
    "Operations supported are:\n",
    "- peek\n",
    "- insert\n",
    "- pop"
   ]
  },
  {
   "cell_type": "code",
   "execution_count": null,
   "id": "39644b5f",
   "metadata": {},
   "outputs": [],
   "source": [
    "class Heap:\n",
    "    def __init__(self, array=[]):\n",
    "        heapify_fast(array)\n",
    "        self.heap = array\n",
    "        \n",
    "    def peek(self):\n",
    "        if self.heap:\n",
    "            return self.heap[0]\n",
    "        \n",
    "    def insert(self, value):\n",
    "        self.heap.append(value)\n",
    "        current = len(self.heap) - 1\n",
    "        \n",
    "        # bubble up the last element to it right position\n",
    "        while current and self.heap[current] < self.heap[current // 2]:\n",
    "            self.heap[current], self.heap[current // 2] = self.heap[current // 2], self.heap[current]\n",
    "            current = current // 2\n",
    "            \n",
    "    def pop(self):\n",
    "        # get the smallest element\n",
    "        minimum = self.heap[0]\n",
    "        \n",
    "        # replace smallerst element with last element\n",
    "        self.heap[0] = self.heap[-1]\n",
    "        \n",
    "        # discard the last element\n",
    "        self.heap.pop()\n",
    "        \n",
    "        # bubble down the first element to its right position\n",
    "        current = 0\n",
    "        left_child = current * 2 + 1\n",
    "        right_child = current * 2 + 2\n",
    "        \n",
    "        smaller_child = left_child\n",
    "        \n",
    "        if right_child < len(self.heap) and self.heap[right_child] < self.heap[left_child]:\n",
    "            smaller_child = right_child\n",
    "            \n",
    "        while smaller_child < len(self.heap) and self.heap[current] > self.heap[smaller_child]:\n",
    "            self.heap[current], self.heap[smaller_child] = self.heap[smaller_child], self.heap[current]\n",
    "            current = smaller_child\n",
    "            \n",
    "            left_child = current * 2 + 1\n",
    "            right_child = current * 2 + 2\n",
    "            \n",
    "            smaller_child = left_child\n",
    "\n",
    "            if right_child < len(self.heap) and self.heap[right_child] < self.heap[left_child]:\n",
    "                smaller_child = right_child\n",
    "        \n",
    "        return minimum"
   ]
  },
  {
   "cell_type": "markdown",
   "id": "1baf0795",
   "metadata": {},
   "source": [
    "I would love to hear any suggestions or feedback you might have on my notebook. Thanks for reading!"
   ]
  }
 ],
 "metadata": {
  "kernelspec": {
   "display_name": "Python 3 (ipykernel)",
   "language": "python",
   "name": "python3"
  },
  "language_info": {
   "codemirror_mode": {
    "name": "ipython",
    "version": 3
   },
   "file_extension": ".py",
   "mimetype": "text/x-python",
   "name": "python",
   "nbconvert_exporter": "python",
   "pygments_lexer": "ipython3",
   "version": "3.9.12"
  }
 },
 "nbformat": 4,
 "nbformat_minor": 5
}
